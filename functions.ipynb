{
  "nbformat": 4,
  "nbformat_minor": 0,
  "metadata": {
    "colab": {
      "provenance": []
    },
    "kernelspec": {
      "name": "python3",
      "display_name": "Python 3"
    },
    "language_info": {
      "name": "python"
    }
  },
  "cells": [
    {
      "cell_type": "code",
      "execution_count": null,
      "metadata": {
        "id": "1sQMy7KrnRWj"
      },
      "outputs": [],
      "source": []
    },
    {
      "cell_type": "markdown",
      "source": [
        "# whAt is function"
      ],
      "metadata": {
        "id": "Pk9Y6LYMGnn5"
      }
    },
    {
      "cell_type": "code",
      "source": [
        "# wdgwjdqgwdwvdg\n",
        "\n",
        "...\n",
        "yuwyiwydkwadydssa ydewy ewydk\n",
        "..."
      ],
      "metadata": {
        "id": "9fKCkqWtIITQ"
      },
      "execution_count": null,
      "outputs": []
    }
  ]
}